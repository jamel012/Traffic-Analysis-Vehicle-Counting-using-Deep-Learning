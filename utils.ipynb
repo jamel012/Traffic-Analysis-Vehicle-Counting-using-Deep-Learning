{
 "cells": [
  {
   "cell_type": "code",
   "execution_count": null,
   "id": "0c8dc349-63d1-405d-b387-b7ac025f6393",
   "metadata": {},
   "outputs": [],
   "source": [
    "def ask_road_status():\n",
    "    road_status = input(\"Enter the road status (m) for main road, (s) for secondary road: \").strip().lower()\n",
    "    if road_status in ['m', 's']:\n",
    "        return road_status\n",
    "    else:\n",
    "        print(\"⚠️ Wrong choice. Please try again.\")\n",
    "        return ask_road_status()\n",
    "\n",
    "def traffic_situation(current_time, frame_num, situation_all):\n",
    "    index_num = int(frame_num / 1800)\n",
    "    if index_num <= 0 or index_num > len(situation_all):\n",
    "        return \"unknown\"\n",
    "    \n",
    "    situation = situation_all[index_num - 1]\n",
    "    mapping = {\n",
    "        '1': \"low\",\n",
    "        '2': \"normal\",\n",
    "        '3': \"high\",\n",
    "        '4': \"heavy\"\n",
    "    }\n",
    "    return mapping.get(situation, \"unknown\")\n"
   ]
  }
 ],
 "metadata": {
  "kernelspec": {
   "display_name": "Python 3 (ipykernel)",
   "language": "python",
   "name": "python3"
  },
  "language_info": {
   "codemirror_mode": {
    "name": "ipython",
    "version": 3
   },
   "file_extension": ".py",
   "mimetype": "text/x-python",
   "name": "python",
   "nbconvert_exporter": "python",
   "pygments_lexer": "ipython3",
   "version": "3.12.7"
  }
 },
 "nbformat": 4,
 "nbformat_minor": 5
}
