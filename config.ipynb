{
 "cells": [
  {
   "cell_type": "code",
   "execution_count": null,
   "id": "04f30fac-1738-472f-91d2-0498a7c388c2",
   "metadata": {},
   "outputs": [],
   "source": [
    "import os\n",
    "\n",
    "# Paths\n",
    "CSV_PATH = os.path.join(\"data\", \"output_csv\", \"vehicle_counts.csv\")\n",
    "VIDEO_PATH = os.path.join(\"data\", \"raw\", \"traffic_video.mp4\")\n",
    "\n",
    "# Video processing\n",
    "SHOW_DEBUG = True\n",
    "USE_ROI = True\n",
    "CROP_TOP = 400\n",
    "CROP_BOTTOM = 0\n",
    "CROP_LEFT = 50\n",
    "CROP_RIGHT = 0\n",
    "VDZ_POSITION = 0.18\n",
    "\n",
    "# YOLO\n",
    "MODEL_PATH = \"yolov8m.pt\"\n",
    "\n",
    "# Traffic situations\n",
    "SITUATION_ALL = ['3', '2', '2', '2', '2', '2']\n",
    "\n",
    "# Video start time\n",
    "START_TIME_STR = '2025-04-21 16:31:00'\n"
   ]
  }
 ],
 "metadata": {
  "kernelspec": {
   "display_name": "Python 3 (ipykernel)",
   "language": "python",
   "name": "python3"
  },
  "language_info": {
   "codemirror_mode": {
    "name": "ipython",
    "version": 3
   },
   "file_extension": ".py",
   "mimetype": "text/x-python",
   "name": "python",
   "nbconvert_exporter": "python",
   "pygments_lexer": "ipython3",
   "version": "3.12.7"
  }
 },
 "nbformat": 4,
 "nbformat_minor": 5
}
